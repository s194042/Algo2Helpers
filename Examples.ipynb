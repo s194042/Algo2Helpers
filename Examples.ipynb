{
 "cells": [
  {
   "cell_type": "code",
   "execution_count": 4,
   "metadata": {},
   "outputs": [
    {
     "data": {
      "text/plain": [
       "(8, 'AAAABBBBAAAA', '----BBBB----')"
      ]
     },
     "execution_count": 4,
     "metadata": {},
     "output_type": "execute_result"
    }
   ],
   "source": [
    "from SequenceAligment import SequenceAlignment\n",
    "\n",
    "a = \"AAAABBBBAAAA\"\n",
    "b = \"BBBB\"\n",
    "SequenceAlignment(a,b)"
   ]
  },
  {
   "cell_type": "code",
   "execution_count": 11,
   "metadata": {},
   "outputs": [
    {
     "name": "stdout",
     "output_type": "stream",
     "text": [
      "['s', 'D', 'E', 't'] 4\n",
      "['s', 'D', 'F', 'G', 't'] 1\n",
      "['s', 'B', 'C', 'E', 'F', 'G', 't'] 2\n",
      "['s', 'B', 'C', 'E', 'D', 'F', 'G', 't'] 4\n"
     ]
    },
    {
     "data": {
      "text/plain": [
       "(11, ({'A', 'B', 'C', 'E', 's'}, {'D', 'F', 'G', 't'}))"
      ]
     },
     "execution_count": 11,
     "metadata": {},
     "output_type": "execute_result"
    }
   ],
   "source": [
    "from MaximumFlow import EdmundKarp,FordFulkerson,MinimumCut\n",
    "g = [(\"s\",[\"A\",10,\"B\",6,\"D\",5]),\n",
    "     (\"A\",[\"B\",4]),\n",
    "     (\"B\",[\"C\",7]),\n",
    "     (\"C\",[\"E\",8]),\n",
    "     (\"D\",[\"E\",10,\"F\",6]),\n",
    "     (\"E\",[\"F\",2,\"t\",4]),\n",
    "     (\"F\",[\"G\",8,\"s\",9]),\n",
    "     (\"G\",[\"t\",8]),\n",
    "     (\"t\",[])]\n",
    "\n",
    "EdmundKarp(\"s\",\"t\",g,True),MinimumCut(\"s\",\"t\",g)\n"
   ]
  },
  {
   "cell_type": "code",
   "execution_count": 1,
   "metadata": {},
   "outputs": [
    {
     "data": {
      "text/plain": [
       "([0, 5, 8, 10, 16, 18, 20, 22], [0, 1, 1, 1, 2, 3], None)"
      ]
     },
     "execution_count": 1,
     "metadata": {},
     "output_type": "execute_result"
    }
   ],
   "source": [
    "from StringMatching import *\n",
    "\n",
    "KMP(\"AB\",\"ABBAAABBABABBBAAABABABABBA\"), create_fail(\"ABBABA\"), automata(\"ABBABA\") # automata er nok lidt useless"
   ]
  },
  {
   "cell_type": "code",
   "execution_count": 3,
   "metadata": {},
   "outputs": [
    {
     "data": {
      "text/plain": [
       "[0, 1, 2, 1, 1, 2, 3, 3]"
      ]
     },
     "execution_count": 3,
     "metadata": {},
     "output_type": "execute_result"
    }
   ],
   "source": [
    "create_fail(\"BBACBBBA\")"
   ]
  },
  {
   "cell_type": "code",
   "execution_count": 7,
   "metadata": {},
   "outputs": [],
   "source": [
    "from RBTrees import *\n",
    "\n",
    "\n",
    "inserts = [13,8,18,6,10,15,20,3,7,9,11,14,16,19,1,4,17]\n",
    "\n",
    "\n",
    "b = RBTree()\n",
    "for i in inserts:\n",
    "    b.insert(i)\n",
    "#b.insert(5)\n",
    "# set red_edges til false for at farve nodes røde i stedet\n",
    "\n",
    "b.to_graph(red_edges = True)\n"
   ]
  },
  {
   "cell_type": "code",
   "execution_count": 8,
   "metadata": {},
   "outputs": [
    {
     "data": {
      "text/plain": [
       "[1, 3, 3, 10, 15, 21, 7, 46]"
      ]
     },
     "execution_count": 8,
     "metadata": {},
     "output_type": "execute_result"
    }
   ],
   "source": [
    "from FenwickTrees import *\n",
    "f = FenwickTree([1,2,3,4,5,6,7,8])\n",
    "f.update(5,10)\n",
    "f"
   ]
  },
  {
   "cell_type": "code",
   "execution_count": 9,
   "metadata": {},
   "outputs": [
    {
     "data": {
      "text/plain": [
       "([[8, 7, 6, 5],\n",
       "  [1, 4, 3, 2],\n",
       "  [None, None, None, None],\n",
       "  [None, None, None, None]],\n",
       " [8, 7, 6, 5, 4, 3, 2, 1])"
      ]
     },
     "execution_count": 9,
     "metadata": {},
     "output_type": "execute_result"
    }
   ],
   "source": [
    "# not working yet\n",
    "from RotatedArrays import *\n",
    "\n",
    "RA = RotateArray(16)\n",
    "for i in [1,2,3,4,5,6,7,8]:\n",
    "    RA.insert(0,i)\n",
    "RA.arrays,RA"
   ]
  },
  {
   "cell_type": "code",
   "execution_count": 10,
   "metadata": {},
   "outputs": [
    {
     "data": {
      "text/plain": [
       "([[7, 6, 5, 4],\n",
       "  [1, None, 3, 2],\n",
       "  [None, None, None, None],\n",
       "  [None, None, None, None]],\n",
       " [7, 6, 5, 4, 3, 2, 1])"
      ]
     },
     "execution_count": 10,
     "metadata": {},
     "output_type": "execute_result"
    }
   ],
   "source": [
    "RA.delete(0)\n",
    "RA.arrays,RA"
   ]
  }
 ],
 "metadata": {
  "kernelspec": {
   "display_name": "Python 3.10.6 64-bit",
   "language": "python",
   "name": "python3"
  },
  "language_info": {
   "codemirror_mode": {
    "name": "ipython",
    "version": 3
   },
   "file_extension": ".py",
   "mimetype": "text/x-python",
   "name": "python",
   "nbconvert_exporter": "python",
   "pygments_lexer": "ipython3",
   "version": "3.10.6"
  },
  "orig_nbformat": 4,
  "vscode": {
   "interpreter": {
    "hash": "e7370f93d1d0cde622a1f8e1c04877d8463912d04d973331ad4851f04de6915a"
   }
  }
 },
 "nbformat": 4,
 "nbformat_minor": 2
}
