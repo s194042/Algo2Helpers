{
 "cells": [
  {
   "cell_type": "code",
   "execution_count": 2,
   "metadata": {},
   "outputs": [],
   "source": [
    "from RBTrees import *\n",
    "\n",
    "R = RBTree()\n",
    "\n",
    "for i in [13,8,18,6,10,15,20,3,7,9,11,14,16,19,1,4,17]:\n",
    "    R.insert(i)\n",
    "R.insert(5)\n",
    "R.to_graph(True)"
   ]
  },
  {
   "cell_type": "code",
   "execution_count": 13,
   "metadata": {},
   "outputs": [
    {
     "data": {
      "text/plain": [
       "[2, 6, 1, 8, 6, 13, 5, 29, 2, 5, 2, 11, 7, 15, 2, 58]"
      ]
     },
     "execution_count": 13,
     "metadata": {},
     "output_type": "execute_result"
    }
   ],
   "source": [
    "from FenwickTrees import *\n",
    "\n",
    "F = FenwickTree([2, 4, 1, 1, 6, 7, 5, 3, 2, 3, 2, 4, 7, 8, 2, 1])\n",
    "F"
   ]
  },
  {
   "cell_type": "code",
   "execution_count": 1,
   "metadata": {},
   "outputs": [
    {
     "name": "stdout",
     "output_type": "stream",
     "text": [
      "['s', 'D', 'E', 't'] 4\n",
      "['s', 'D', 'F', 'G', 't'] 1\n",
      "['s', 'B', 'C', 'E', 'F', 'G', 't'] 2\n",
      "['s', 'B', 'C', 'E', 'D', 'F', 'G', 't'] 4\n"
     ]
    },
    {
     "data": {
      "text/plain": [
       "(11, ({'A', 'B', 'C', 'E', 's'}, {'D', 'F', 'G', 't'}))"
      ]
     },
     "execution_count": 1,
     "metadata": {},
     "output_type": "execute_result"
    }
   ],
   "source": [
    "from MaximumFlow import *\n",
    "g = [(\"s\",[\"A\",10,\"B\",6,\"D\",5]),\n",
    "     (\"A\",[\"B\",4]),\n",
    "     (\"B\",[\"C\",7]),\n",
    "     (\"C\",[\"E\",8]),\n",
    "     (\"D\",[\"E\",10,\"F\",6]),\n",
    "     (\"E\",[\"t\",4,\"F\",2]),\n",
    "     (\"F\",[\"G\",8]),\n",
    "     (\"G\",[\"t\",8])]\n",
    "\n",
    "EdmundKarpScaling(\"s\",\"t\",g,True), MinimumCut(\"s\",\"t\",)"
   ]
  },
  {
   "cell_type": "code",
   "execution_count": 16,
   "metadata": {},
   "outputs": [
    {
     "name": "stdout",
     "output_type": "stream",
     "text": [
      "['s', 'D', 'C', 't'] 3\n",
      "['s', 'B', 'A', 't'] 2\n",
      "['s', 'B', 'A', 'C', 't'] 2\n",
      "['s', 'B', 'A', 'C', 'D', 'F', 'E', 't'] 2\n"
     ]
    },
    {
     "data": {
      "text/plain": [
       "(9, ({'A', 'B', 's'}, {'C', 'D', 'E', 'F', 't'}))"
      ]
     },
     "execution_count": 16,
     "metadata": {},
     "output_type": "execute_result"
    }
   ],
   "source": [
    "g = [(\"s\",[\"D\",3,\"B\",8]),\n",
    "     (\"A\",[\"t\",2,\"C\",4]),\n",
    "     (\"B\",[\"A\",9]),\n",
    "     (\"C\",[\"t\",5]),\n",
    "     (\"D\",[\"C\",6,\"F\",5]),\n",
    "     (\"E\",[\"t\",8]),\n",
    "     (\"F\",[\"E\",3]),\n",
    "     (\"t\",[])]\n",
    "\n",
    "EdmundKarp(\"s\",\"t\",g,True), MinimumCut(\"s\",\"t\",g)\n"
   ]
  },
  {
   "cell_type": "code",
   "execution_count": 5,
   "metadata": {},
   "outputs": [
    {
     "data": {
      "text/plain": [
       "[0, 0, 0, 1, 2, 1, 2, 3, 4, 5]"
      ]
     },
     "execution_count": 5,
     "metadata": {},
     "output_type": "execute_result"
    }
   ],
   "source": [
    "from StringMatching import *\n",
    "#automata(\"bbybbybbyb\")\n",
    "create_fail(\"ABCABABCAB\")"
   ]
  },
  {
   "cell_type": "code",
   "execution_count": 4,
   "metadata": {},
   "outputs": [],
   "source": [
    "automata(\"ABCABABCAB\")"
   ]
  },
  {
   "cell_type": "code",
   "execution_count": 1,
   "metadata": {},
   "outputs": [
    {
     "name": "stdout",
     "output_type": "stream",
     "text": [
      "[1]\n",
      "(1, (2, 2))\n",
      "[2]\n",
      "(1, (1, 1))\n",
      "[3]\n",
      "(1, (0, 0))\n",
      "[4]\n",
      "{(0, 0): 0, (0, 1): 1, (0, 2): 2, (0, 3): 3, (1, 0): 1, (1, 1): 1, (1, 2): 1, (1, 3): 2, (2, 0): 2, (2, 1): 2, (2, 2): 1, (2, 3): 2, (3, 0): 3, (3, 1): 2, (3, 2): 2}\n"
     ]
    },
    {
     "data": {
      "text/plain": [
       "(1, 'CCB', 'BCB')"
      ]
     },
     "execution_count": 1,
     "metadata": {},
     "output_type": "execute_result"
    }
   ],
   "source": [
    "from SequenceAligment import *\n",
    "SequenceAlignment(\"CCB\",\"BCB\",mismatch_penalty=100)"
   ]
  }
 ],
 "metadata": {
  "kernelspec": {
   "display_name": "Python 3.10.6 64-bit",
   "language": "python",
   "name": "python3"
  },
  "language_info": {
   "codemirror_mode": {
    "name": "ipython",
    "version": 3
   },
   "file_extension": ".py",
   "mimetype": "text/x-python",
   "name": "python",
   "nbconvert_exporter": "python",
   "pygments_lexer": "ipython3",
   "version": "3.10.6"
  },
  "orig_nbformat": 4,
  "vscode": {
   "interpreter": {
    "hash": "e7370f93d1d0cde622a1f8e1c04877d8463912d04d973331ad4851f04de6915a"
   }
  }
 },
 "nbformat": 4,
 "nbformat_minor": 2
}
